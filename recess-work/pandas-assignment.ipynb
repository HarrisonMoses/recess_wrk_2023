{
  "cells": [
    {
      "cell_type": "markdown",
      "metadata": {
        "id": "sZhaJtRCVPXZ"
      },
      "source": [
        "# Week 3: Day 2\n",
        "Amanda Ann Kirabo"
      ]
    },
    {
      "cell_type": "code",
      "execution_count": null,
      "metadata": {
        "colab": {
          "base_uri": "https://localhost:8080/"
        },
        "id": "uHKqzyrk615q",
        "outputId": "0fd5e157-a22e-4e47-f4f2-70f390cab632"
      },
      "outputs": [
        {
          "name": "stdout",
          "output_type": "stream",
          "text": [
            "     Phone  Price\n",
            "0  Phone A    999\n",
            "1  Phone B    799\n",
            "2  Phone C    599\n"
          ]
        }
      ],
      "source": [
        "import pandas as pd\n",
        "\n",
        "data = {\n",
        "    'Phone': ['Phone A', 'Phone B', 'Phone C'],\n",
        "    'Price': [999, 799, 599]\n",
        "}\n",
        "\n",
        "df = pd.DataFrame(data)\n",
        "print(df)\n"
      ]
    },
    {
      "cell_type": "code",
      "execution_count": null,
      "metadata": {
        "colab": {
          "base_uri": "https://localhost:8080/",
          "height": 143
        },
        "id": "zW0LXL7c8q5g",
        "outputId": "2da35cd5-bf4f-47bb-d52a-fe14c9bf9d3c"
      },
      "outputs": [
        {
          "data": {
            "text/html": [
              "\n",
              "  <div id=\"df-e305f495-832b-41b7-9b42-0feb9c4ccb9b\">\n",
              "    <div class=\"colab-df-container\">\n",
              "      <div>\n",
              "<style scoped>\n",
              "    .dataframe tbody tr th:only-of-type {\n",
              "        vertical-align: middle;\n",
              "    }\n",
              "\n",
              "    .dataframe tbody tr th {\n",
              "        vertical-align: top;\n",
              "    }\n",
              "\n",
              "    .dataframe thead th {\n",
              "        text-align: right;\n",
              "    }\n",
              "</style>\n",
              "<table border=\"1\" class=\"dataframe\">\n",
              "  <thead>\n",
              "    <tr style=\"text-align: right;\">\n",
              "      <th></th>\n",
              "      <th>City</th>\n",
              "      <th>Waste</th>\n",
              "      <th>Category</th>\n",
              "    </tr>\n",
              "  </thead>\n",
              "  <tbody>\n",
              "    <tr>\n",
              "      <th>0</th>\n",
              "      <td>Kampala</td>\n",
              "      <td>Plastic</td>\n",
              "      <td>Non-Biodegradable</td>\n",
              "    </tr>\n",
              "    <tr>\n",
              "      <th>1</th>\n",
              "      <td>Entebbe</td>\n",
              "      <td>Paper</td>\n",
              "      <td>Recyclable</td>\n",
              "    </tr>\n",
              "    <tr>\n",
              "      <th>2</th>\n",
              "      <td>Jinja</td>\n",
              "      <td>Glass</td>\n",
              "      <td>Non-Biodegradable</td>\n",
              "    </tr>\n",
              "  </tbody>\n",
              "</table>\n",
              "</div>\n",
              "      <button class=\"colab-df-convert\" onclick=\"convertToInteractive('df-e305f495-832b-41b7-9b42-0feb9c4ccb9b')\"\n",
              "              title=\"Convert this dataframe to an interactive table.\"\n",
              "              style=\"display:none;\">\n",
              "        \n",
              "  <svg xmlns=\"http://www.w3.org/2000/svg\" height=\"24px\"viewBox=\"0 0 24 24\"\n",
              "       width=\"24px\">\n",
              "    <path d=\"M0 0h24v24H0V0z\" fill=\"none\"/>\n",
              "    <path d=\"M18.56 5.44l.94 2.06.94-2.06 2.06-.94-2.06-.94-.94-2.06-.94 2.06-2.06.94zm-11 1L8.5 8.5l.94-2.06 2.06-.94-2.06-.94L8.5 2.5l-.94 2.06-2.06.94zm10 10l.94 2.06.94-2.06 2.06-.94-2.06-.94-.94-2.06-.94 2.06-2.06.94z\"/><path d=\"M17.41 7.96l-1.37-1.37c-.4-.4-.92-.59-1.43-.59-.52 0-1.04.2-1.43.59L10.3 9.45l-7.72 7.72c-.78.78-.78 2.05 0 2.83L4 21.41c.39.39.9.59 1.41.59.51 0 1.02-.2 1.41-.59l7.78-7.78 2.81-2.81c.8-.78.8-2.07 0-2.86zM5.41 20L4 18.59l7.72-7.72 1.47 1.35L5.41 20z\"/>\n",
              "  </svg>\n",
              "      </button>\n",
              "      \n",
              "  <style>\n",
              "    .colab-df-container {\n",
              "      display:flex;\n",
              "      flex-wrap:wrap;\n",
              "      gap: 12px;\n",
              "    }\n",
              "\n",
              "    .colab-df-convert {\n",
              "      background-color: #E8F0FE;\n",
              "      border: none;\n",
              "      border-radius: 50%;\n",
              "      cursor: pointer;\n",
              "      display: none;\n",
              "      fill: #1967D2;\n",
              "      height: 32px;\n",
              "      padding: 0 0 0 0;\n",
              "      width: 32px;\n",
              "    }\n",
              "\n",
              "    .colab-df-convert:hover {\n",
              "      background-color: #E2EBFA;\n",
              "      box-shadow: 0px 1px 2px rgba(60, 64, 67, 0.3), 0px 1px 3px 1px rgba(60, 64, 67, 0.15);\n",
              "      fill: #174EA6;\n",
              "    }\n",
              "\n",
              "    [theme=dark] .colab-df-convert {\n",
              "      background-color: #3B4455;\n",
              "      fill: #D2E3FC;\n",
              "    }\n",
              "\n",
              "    [theme=dark] .colab-df-convert:hover {\n",
              "      background-color: #434B5C;\n",
              "      box-shadow: 0px 1px 3px 1px rgba(0, 0, 0, 0.15);\n",
              "      filter: drop-shadow(0px 1px 2px rgba(0, 0, 0, 0.3));\n",
              "      fill: #FFFFFF;\n",
              "    }\n",
              "  </style>\n",
              "\n",
              "      <script>\n",
              "        const buttonEl =\n",
              "          document.querySelector('#df-e305f495-832b-41b7-9b42-0feb9c4ccb9b button.colab-df-convert');\n",
              "        buttonEl.style.display =\n",
              "          google.colab.kernel.accessAllowed ? 'block' : 'none';\n",
              "\n",
              "        async function convertToInteractive(key) {\n",
              "          const element = document.querySelector('#df-e305f495-832b-41b7-9b42-0feb9c4ccb9b');\n",
              "          const dataTable =\n",
              "            await google.colab.kernel.invokeFunction('convertToInteractive',\n",
              "                                                     [key], {});\n",
              "          if (!dataTable) return;\n",
              "\n",
              "          const docLinkHtml = 'Like what you see? Visit the ' +\n",
              "            '<a target=\"_blank\" href=https://colab.research.google.com/notebooks/data_table.ipynb>data table notebook</a>'\n",
              "            + ' to learn more about interactive tables.';\n",
              "          element.innerHTML = '';\n",
              "          dataTable['output_type'] = 'display_data';\n",
              "          await google.colab.output.renderOutput(dataTable, element);\n",
              "          const docLink = document.createElement('div');\n",
              "          docLink.innerHTML = docLinkHtml;\n",
              "          element.appendChild(docLink);\n",
              "        }\n",
              "      </script>\n",
              "    </div>\n",
              "  </div>\n",
              "  "
            ],
            "text/plain": [
              "      City    Waste           Category\n",
              "0  Kampala  Plastic  Non-Biodegradable\n",
              "1  Entebbe    Paper         Recyclable\n",
              "2    Jinja    Glass  Non-Biodegradable"
            ]
          },
          "execution_count": 9,
          "metadata": {},
          "output_type": "execute_result"
        }
      ],
      "source": [
        "data = {\n",
        "    'City': ['Kampala', 'Entebbe', 'Jinja'],\n",
        "    'Waste': ['Plastic', 'Paper', 'Glass'],\n",
        "    'Category': ['Non-Biodegradable', 'Recyclable', 'Non-Biodegradable']\n",
        "}\n",
        "\n",
        "df2 = pd.DataFrame(data)\n",
        "\n",
        "df2"
      ]
    },
    {
      "cell_type": "markdown",
      "metadata": {
        "id": "vye1aZ8D_v7u"
      },
      "source": [
        "# Assignment 1: create a simple pandas series from a dictionary: For days and dates"
      ]
    },
    {
      "cell_type": "code",
      "execution_count": null,
      "metadata": {
        "colab": {
          "base_uri": "https://localhost:8080/"
        },
        "id": "dPA_pi0t_ufH",
        "outputId": "c2541df0-79f6-45ab-bdd6-8e6f8d7d587a"
      },
      "outputs": [
        {
          "name": "stdout",
          "output_type": "stream",
          "text": [
            "Sunday       {'Kampala': '2023-07-02', 'Jinja': '2023-07-02...\n",
            "Monday       {'Kampala': '2023-07-03', 'Jinja': '2023-07-03...\n",
            "Tuesday      {'Kampala': '2023-07-04', 'Jinja': '2023-07-04...\n",
            "Wednesday    {'Kampala': '2023-07-05', 'Jinja': '2023-07-05...\n",
            "Thursday     {'Kampala': '2023-07-06', 'Jinja': '2023-07-06...\n",
            "Friday       {'Kampala': '2023-07-07', 'Jinja': '2023-07-07...\n",
            "dtype: object\n"
          ]
        }
      ],
      "source": [
        "import pandas as pd\n",
        "\n",
        "data = {\n",
        "    'Sunday': {\n",
        "        'Kampala': '2023-07-02',\n",
        "        'Jinja': '2023-07-02',\n",
        "        'Gulu': '2023-07-02',\n",
        "        'Mbarara': '2023-07-02'\n",
        "    },\n",
        "    'Monday': {\n",
        "        'Kampala': '2023-07-03',\n",
        "        'Jinja': '2023-07-03',\n",
        "        'Gulu': '2023-07-03',\n",
        "        'Mbarara': '2023-07-03'\n",
        "    },\n",
        "    'Tuesday': {\n",
        "        'Kampala': '2023-07-04',\n",
        "        'Jinja': '2023-07-04',\n",
        "        'Gulu': '2023-07-04',\n",
        "        'Mbarara': '2023-07-04'\n",
        "    },\n",
        "    'Wednesday': {\n",
        "        'Kampala': '2023-07-05',\n",
        "        'Jinja': '2023-07-05',\n",
        "        'Gulu': '2023-07-05',\n",
        "        'Mbarara': '2023-07-05'\n",
        "    },\n",
        "    'Thursday': {\n",
        "        'Kampala': '2023-07-06',\n",
        "        'Jinja': '2023-07-06',\n",
        "        'Gulu': '2023-07-06',\n",
        "        'Mbarara': '2023-07-06'\n",
        "    },\n",
        "    'Friday': {\n",
        "        'Kampala': '2023-07-07',\n",
        "        'Jinja': '2023-07-07',\n",
        "        'Gulu': '2023-07-07',\n",
        "        'Mbarara': '2023-07-07'\n",
        "    }\n",
        "}\n",
        "\n",
        "series = pd.Series(data)\n",
        "print(series)\n"
      ]
    },
    {
      "cell_type": "markdown",
      "metadata": {
        "id": "wd09tkQ4CyQ6"
      },
      "source": [
        "# Assignment 2: create a simple series using only data from Monday and Tuesday"
      ]
    },
    {
      "cell_type": "markdown",
      "metadata": {
        "id": "YYhFLKRrECpz"
      },
      "source": [
        "## For Waste collection"
      ]
    },
    {
      "cell_type": "code",
      "execution_count": null,
      "metadata": {
        "colab": {
          "base_uri": "https://localhost:8080/"
        },
        "id": "HhoQ3lkBCxXi",
        "outputId": "65718a22-8176-48bb-f61b-1115df86ddfc"
      },
      "outputs": [
        {
          "name": "stdout",
          "output_type": "stream",
          "text": [
            "Kampala    220\n",
            "Jinja      170\n",
            "Gulu       110\n",
            "Mbarara    150\n",
            "dtype: int64\n"
          ]
        }
      ],
      "source": [
        "import pandas as pd\n",
        "\n",
        "\n",
        "data = {\n",
        "    'Monday': {\n",
        "        'Kampala': 100,\n",
        "        'Jinja': 80,\n",
        "        'Gulu': 50,\n",
        "        'Mbarara': 70\n",
        "    },\n",
        "    'Tuesday': {\n",
        "        'Kampala': 120,\n",
        "        'Jinja': 90,\n",
        "        'Gulu': 60,\n",
        "        'Mbarara': 80\n",
        "    }\n",
        "}\n",
        "\n",
        "series_monday = pd.Series(data['Monday'])\n",
        "\n",
        "series_tuesday = pd.Series(data['Tuesday'])\n",
        "\n",
        "series_combined = series_monday + series_tuesday\n",
        "\n",
        "print(series_combined)\n"
      ]
    },
    {
      "cell_type": "markdown",
      "metadata": {
        "id": "9N9RQrrWNpEK"
      },
      "source": [
        "<div style=\"text-align:center\">\n",
        "    \n",
        "# Assignment\n",
        "    \n",
        "</div>\n"
      ]
    },
    {
      "cell_type": "markdown",
      "metadata": {
        "id": "uwktVz-AMa5K"
      },
      "source": [
        "# Analyzing Data / Cleaning Data Exercise\n",
        "You are required to use some of the methods below to analyze and clean your data namely;\n",
        "1. Head ()\n",
        "2. Tail ()\n",
        "3. Info()\n",
        "4. Dropna()\n",
        "5. Fillna()\n",
        "\n",
        "Also use the appropriate methods to remove;\n",
        "1. Wrong data\n",
        "2. Wrong formats\n",
        "3. Duplicates\n",
        "4. Perform some correlation"
      ]
    },
    {
      "cell_type": "markdown",
      "metadata": {
        "id": "3Q2jYRWCNLfU"
      },
      "source": [
        "## Displaying Head ()"
      ]
    },
    {
      "cell_type": "code",
      "execution_count": null,
      "metadata": {
        "colab": {
          "base_uri": "https://localhost:8080/"
        },
        "id": "UR7eTVPrMaXn",
        "outputId": "6795e021-138c-4ee8-9446-966c4582045b"
      },
      "outputs": [
        {
          "name": "stdout",
          "output_type": "stream",
          "text": [
            "Head of Work CSV file:\n",
            "     Name         city  age py-score\n",
            "0    Emma      Kampala   23       90\n",
            "1  Wilber        Mbale   26       75\n",
            "2   Robin         Gulu   25     mine\n",
            "3   Tevor  Livingstone  NaN       89\n",
            "4    Yeko       Tororo   20       94\n",
            "\n",
            "Head of mine csv file :\n",
            "   Duration  Pulse  Maxpulse  Calories\n",
            "0        60    110       130     409.1\n",
            "1        60    117       145     479.0\n",
            "2        60    103       135     340.0\n",
            "3        45    109       175     282.4\n",
            "4        45    117       148     406.0\n"
          ]
        }
      ],
      "source": [
        "import pandas as pd\n",
        "\n",
        "# Reading the work CSV file\n",
        "df3 = pd.read_csv('/content/Work.csv')\n",
        "print(\"Head of Work CSV file:\")\n",
        "print(df3.head())\n",
        "\n",
        "# Reading the mine CSV file\n",
        "df4 = pd.read_csv('/content/mine.csv')\n",
        "print(\"\\nHead of mine csv file :\")\n",
        "print(df4.head())\n"
      ]
    },
    {
      "cell_type": "markdown",
      "metadata": {
        "id": "ZvjVset5OuGd"
      },
      "source": [
        "## displaying the Tail -- Tail()"
      ]
    },
    {
      "cell_type": "code",
      "execution_count": null,
      "metadata": {
        "colab": {
          "base_uri": "https://localhost:8080/"
        },
        "id": "hhtZGAqCOtd7",
        "outputId": "344ba3b1-0b52-4550-ac12-72ed7835222c"
      },
      "outputs": [
        {
          "name": "stdout",
          "output_type": "stream",
          "text": [
            "Tail of the work file  :\n",
            "     Name         city    age py-score\n",
            "2   Robin         Gulu     25     mine\n",
            "3   Tevor  Livingstone    NaN       89\n",
            "4    Yeko       Tororo     20       94\n",
            "5  Miriam         Arua  Train      NaN\n",
            "6   Jesca      Mbarara     21       84\n",
            "\n",
            "Tail of the mine file :\n",
            "     Duration  Pulse  Maxpulse  Calories\n",
            "164        60    105       140     290.8\n",
            "165        60    110       145     300.0\n",
            "166        60    115       145     310.2\n",
            "167        75    120       150     320.4\n",
            "168        75    125       150     330.4\n"
          ]
        }
      ],
      "source": [
        "import pandas as pd\n",
        "\n",
        "# Reading the work CSV file\n",
        "df3 = pd.read_csv('/content/Work.csv')\n",
        "print(\"Tail of the work file  :\")\n",
        "print(df3.tail())\n",
        "\n",
        "# Reading the mine CSV file\n",
        "df4 = pd.read_csv('/content/mine.csv')\n",
        "print(\"\\nTail of the mine file :\")\n",
        "print(df4.tail())\n"
      ]
    },
    {
      "cell_type": "markdown",
      "metadata": {
        "id": "T4P0A3k8PcoK"
      },
      "source": [
        "## **Displaying** the info. using Info()"
      ]
    },
    {
      "cell_type": "code",
      "execution_count": null,
      "metadata": {
        "colab": {
          "base_uri": "https://localhost:8080/"
        },
        "id": "uHvA4Rg0Pbpi",
        "outputId": "618a5f87-b63c-4188-8ede-1ed92468dc34"
      },
      "outputs": [
        {
          "name": "stdout",
          "output_type": "stream",
          "text": [
            "Info of work csv file:\n",
            "<class 'pandas.core.frame.DataFrame'>\n",
            "RangeIndex: 7 entries, 0 to 6\n",
            "Data columns (total 4 columns):\n",
            " #   Column    Non-Null Count  Dtype \n",
            "---  ------    --------------  ----- \n",
            " 0   Name      7 non-null      object\n",
            " 1   city      7 non-null      object\n",
            " 2   age       6 non-null      object\n",
            " 3   py-score  6 non-null      object\n",
            "dtypes: object(4)\n",
            "memory usage: 352.0+ bytes\n",
            "None\n",
            "\n",
            "Info mine csv file:\n",
            "<class 'pandas.core.frame.DataFrame'>\n",
            "RangeIndex: 169 entries, 0 to 168\n",
            "Data columns (total 4 columns):\n",
            " #   Column    Non-Null Count  Dtype  \n",
            "---  ------    --------------  -----  \n",
            " 0   Duration  169 non-null    int64  \n",
            " 1   Pulse     169 non-null    int64  \n",
            " 2   Maxpulse  169 non-null    int64  \n",
            " 3   Calories  164 non-null    float64\n",
            "dtypes: float64(1), int64(3)\n",
            "memory usage: 5.4 KB\n",
            "None\n"
          ]
        }
      ],
      "source": [
        "import pandas as pd\n",
        "\n",
        "# Reading the work CSV file\n",
        "df3 = pd.read_csv('/content/Work.csv')\n",
        "print(\"Info of work csv file:\")\n",
        "print(df3.info())\n",
        "\n",
        "# Reading the mine CSV file\n",
        "df4 = pd.read_csv('/content/mine.csv')\n",
        "print(\"\\nInfo mine csv file:\")\n",
        "print(df4.info())\n"
      ]
    },
    {
      "cell_type": "markdown",
      "metadata": {
        "id": "t09cBjR5QE_n"
      },
      "source": [
        "## Dropna() For missing values"
      ]
    },
    {
      "cell_type": "code",
      "execution_count": 7,
      "metadata": {
        "colab": {
          "base_uri": "https://localhost:8080/"
        },
        "id": "oo8CXcxTQEPx",
        "outputId": "5e4eac71-2113-4485-dd16-921b2f58f735"
      },
      "outputs": [
        {
          "name": "stdout",
          "output_type": "stream",
          "text": [
            "DataFrame after dropping missing values Work CSV file:\n",
            "     Name     city age py-score\n",
            "0    Emma  Kampala  23       90\n",
            "1  Wilber    Mbale  26       75\n",
            "2   Robin     Gulu  25     mine\n",
            "4    Yeko   Tororo  20       94\n",
            "6   Jesca  Mbarara  21       84\n",
            "\n",
            "DataFrame after dropping missing values mine csv file:\n",
            "     Duration  Pulse  Maxpulse  Calories\n",
            "0          60    110       130     409.1\n",
            "1          60    117       145     479.0\n",
            "2          60    103       135     340.0\n",
            "3          45    109       175     282.4\n",
            "4          45    117       148     406.0\n",
            "..        ...    ...       ...       ...\n",
            "164        60    105       140     290.8\n",
            "165        60    110       145     300.0\n",
            "166        60    115       145     310.2\n",
            "167        75    120       150     320.4\n",
            "168        75    125       150     330.4\n",
            "\n",
            "[164 rows x 4 columns]\n"
          ]
        }
      ],
      "source": [
        "\n",
        "\n",
        "# Reading the work CSV file\n",
        "df3 = pd.read_csv('/content/Work.csv')\n",
        "df3 = df3.dropna()\n",
        "print(\"DataFrame after dropping missing values Work CSV file:\")\n",
        "print(df3)\n",
        "\n",
        "# Reading the mine CSV file\n",
        "df4 = pd.read_csv('/content/mine.csv')\n",
        "df4 = df4.dropna()\n",
        "print(\"\\nDataFrame after dropping missing values mine csv file:\")\n",
        "print(df4)\n"
      ]
    },
    {
      "cell_type": "markdown",
      "metadata": {
        "id": "j2x2LYDhSG02"
      },
      "source": [
        "## fillna()"
      ]
    },
    {
      "cell_type": "code",
      "execution_count": 11,
      "metadata": {
        "colab": {
          "base_uri": "https://localhost:8080/"
        },
        "id": "a6WRvrJ2SGEI",
        "outputId": "d5b72e66-5847-4137-eb4c-3635a861a84b"
      },
      "outputs": [
        {
          "name": "stdout",
          "output_type": "stream",
          "text": [
            "DataFrame after filling missing values from Work.csv:\n",
            "     Name         city    age py-score\n",
            "0    Emma      Kampala     23       90\n",
            "1  Wilber        Mbale     26       75\n",
            "2   Robin         Gulu     25     mine\n",
            "3   Tevor  Livingstone      X       89\n",
            "4    Yeko       Tororo     20       94\n",
            "5  Miriam         Arua  Train        X\n",
            "6   Jesca      Mbarara     21       84\n",
            "\n",
            "DataFrame after filling missing values from mine.csv:\n",
            "     Duration  Pulse  Maxpulse Calories\n",
            "0          60    110       130    409.1\n",
            "1          60    117       145    479.0\n",
            "2          60    103       135    340.0\n",
            "3          45    109       175    282.4\n",
            "4          45    117       148    406.0\n",
            "..        ...    ...       ...      ...\n",
            "164        60    105       140    290.8\n",
            "165        60    110       145    300.0\n",
            "166        60    115       145    310.2\n",
            "167        75    120       150    320.4\n",
            "168        75    125       150    330.4\n",
            "\n",
            "[169 rows x 4 columns]\n"
          ]
        }
      ],
      "source": [
        "import pandas as pd\n",
        "\n",
        "# Reading the work CSV file\n",
        "df3 = pd.read_csv('/content/Work.csv')\n",
        "df3 = df3.fillna(\"X\")\n",
        "print(\"DataFrame after filling missing values from Work.csv:\")\n",
        "print(df3)\n",
        "\n",
        "# Reading the mine CSV file\n",
        "df4 = pd.read_csv('/content/mine.csv')\n",
        "df4 = df4.fillna('X')\n",
        "print(\"\\nDataFrame after filling missing values from mine.csv:\")\n",
        "print(df4)\n"
      ]
    },
    {
      "cell_type": "markdown",
      "metadata": {
        "id": "sZ8uDNSUSehA"
      },
      "source": [
        "# Also use the appropriate methods to remove\n",
        "1. Wrong data\n",
        "2. Wrong formats\n",
        "3. Duplicates\n",
        "4. Perform some correlation"
      ]
    },
    {
      "cell_type": "markdown",
      "metadata": {
        "id": "9dKNDpoxc8oi"
      },
      "source": [
        "## 1. Wrong Data"
      ]
    },
    {
      "cell_type": "markdown",
      "metadata": {
        "id": "t801BA_vdE5y"
      },
      "source": [
        "### Handling the wrong values in the py-score column for work.csv"
      ]
    },
    {
      "cell_type": "code",
      "execution_count": 19,
      "metadata": {
        "colab": {
          "base_uri": "https://localhost:8080/"
        },
        "id": "qab11-Z0Tnmu",
        "outputId": "10b1f1c0-6aae-45cc-fd8c-0cfd764fe56b"
      },
      "outputs": [
        {
          "name": "stdout",
          "output_type": "stream",
          "text": [
            "     Name         city age  py-score\n",
            "0    Emma      Kampala  23      90.0\n",
            "1  Wilber        Mbale  26      75.0\n",
            "3   Tevor  Livingstone   X      89.0\n",
            "4    Yeko       Tororo  20      94.0\n",
            "6   Jesca      Mbarara  21      84.0\n"
          ]
        }
      ],
      "source": [
        "df3['py-score'] = pd.to_numeric(df3['py-score'], errors='coerce')\n",
        "df3 = df3.dropna(subset=['py-score'])\n",
        "\n",
        "# Displaying the filtered DataFrame\n",
        "print(df3)"
      ]
    },
    {
      "cell_type": "markdown",
      "metadata": {
        "id": "dfDYdK8Zdo6S"
      },
      "source": [
        "### Handling the wrong values in the age column for work.csv"
      ]
    },
    {
      "cell_type": "code",
      "execution_count": 20,
      "metadata": {
        "colab": {
          "base_uri": "https://localhost:8080/"
        },
        "id": "Ee9Fb739dv2h",
        "outputId": "9bdbce1a-c0da-4d38-94bc-24067350e111"
      },
      "outputs": [
        {
          "name": "stdout",
          "output_type": "stream",
          "text": [
            "     Name     city   age  py-score\n",
            "0    Emma  Kampala  23.0      90.0\n",
            "1  Wilber    Mbale  26.0      75.0\n",
            "4    Yeko   Tororo  20.0      94.0\n",
            "6   Jesca  Mbarara  21.0      84.0\n"
          ]
        }
      ],
      "source": [
        "df3['age'] = pd.to_numeric(df3['age'], errors='coerce')\n",
        "df3 = df3.dropna(subset=['age'])\n",
        "\n",
        "# Displaying the filtered DataFrame\n",
        "print(df3)"
      ]
    },
    {
      "cell_type": "markdown",
      "metadata": {
        "id": "PPslFJ9OeaN6"
      },
      "source": [
        "### handling the wrong values in the mine.csv\n"
      ]
    },
    {
      "cell_type": "code",
      "execution_count": 21,
      "metadata": {
        "colab": {
          "base_uri": "https://localhost:8080/",
          "height": 300
        },
        "id": "rZBnTczhfCyf",
        "outputId": "357054de-9af3-43fc-aed8-4d7a1b8781ca"
      },
      "outputs": [
        {
          "data": {
            "text/html": [
              "\n",
              "  <div id=\"df-f7a83d0b-3660-45f7-83ec-d579a6b4016b\">\n",
              "    <div class=\"colab-df-container\">\n",
              "      <div>\n",
              "<style scoped>\n",
              "    .dataframe tbody tr th:only-of-type {\n",
              "        vertical-align: middle;\n",
              "    }\n",
              "\n",
              "    .dataframe tbody tr th {\n",
              "        vertical-align: top;\n",
              "    }\n",
              "\n",
              "    .dataframe thead th {\n",
              "        text-align: right;\n",
              "    }\n",
              "</style>\n",
              "<table border=\"1\" class=\"dataframe\">\n",
              "  <thead>\n",
              "    <tr style=\"text-align: right;\">\n",
              "      <th></th>\n",
              "      <th>Duration</th>\n",
              "      <th>Pulse</th>\n",
              "      <th>Maxpulse</th>\n",
              "    </tr>\n",
              "  </thead>\n",
              "  <tbody>\n",
              "    <tr>\n",
              "      <th>count</th>\n",
              "      <td>169.000000</td>\n",
              "      <td>169.000000</td>\n",
              "      <td>169.000000</td>\n",
              "    </tr>\n",
              "    <tr>\n",
              "      <th>mean</th>\n",
              "      <td>63.846154</td>\n",
              "      <td>107.461538</td>\n",
              "      <td>134.047337</td>\n",
              "    </tr>\n",
              "    <tr>\n",
              "      <th>std</th>\n",
              "      <td>42.299949</td>\n",
              "      <td>14.510259</td>\n",
              "      <td>16.450434</td>\n",
              "    </tr>\n",
              "    <tr>\n",
              "      <th>min</th>\n",
              "      <td>15.000000</td>\n",
              "      <td>80.000000</td>\n",
              "      <td>100.000000</td>\n",
              "    </tr>\n",
              "    <tr>\n",
              "      <th>25%</th>\n",
              "      <td>45.000000</td>\n",
              "      <td>100.000000</td>\n",
              "      <td>124.000000</td>\n",
              "    </tr>\n",
              "    <tr>\n",
              "      <th>50%</th>\n",
              "      <td>60.000000</td>\n",
              "      <td>105.000000</td>\n",
              "      <td>131.000000</td>\n",
              "    </tr>\n",
              "    <tr>\n",
              "      <th>75%</th>\n",
              "      <td>60.000000</td>\n",
              "      <td>111.000000</td>\n",
              "      <td>141.000000</td>\n",
              "    </tr>\n",
              "    <tr>\n",
              "      <th>max</th>\n",
              "      <td>300.000000</td>\n",
              "      <td>159.000000</td>\n",
              "      <td>184.000000</td>\n",
              "    </tr>\n",
              "  </tbody>\n",
              "</table>\n",
              "</div>\n",
              "      <button class=\"colab-df-convert\" onclick=\"convertToInteractive('df-f7a83d0b-3660-45f7-83ec-d579a6b4016b')\"\n",
              "              title=\"Convert this dataframe to an interactive table.\"\n",
              "              style=\"display:none;\">\n",
              "        \n",
              "  <svg xmlns=\"http://www.w3.org/2000/svg\" height=\"24px\"viewBox=\"0 0 24 24\"\n",
              "       width=\"24px\">\n",
              "    <path d=\"M0 0h24v24H0V0z\" fill=\"none\"/>\n",
              "    <path d=\"M18.56 5.44l.94 2.06.94-2.06 2.06-.94-2.06-.94-.94-2.06-.94 2.06-2.06.94zm-11 1L8.5 8.5l.94-2.06 2.06-.94-2.06-.94L8.5 2.5l-.94 2.06-2.06.94zm10 10l.94 2.06.94-2.06 2.06-.94-2.06-.94-.94-2.06-.94 2.06-2.06.94z\"/><path d=\"M17.41 7.96l-1.37-1.37c-.4-.4-.92-.59-1.43-.59-.52 0-1.04.2-1.43.59L10.3 9.45l-7.72 7.72c-.78.78-.78 2.05 0 2.83L4 21.41c.39.39.9.59 1.41.59.51 0 1.02-.2 1.41-.59l7.78-7.78 2.81-2.81c.8-.78.8-2.07 0-2.86zM5.41 20L4 18.59l7.72-7.72 1.47 1.35L5.41 20z\"/>\n",
              "  </svg>\n",
              "      </button>\n",
              "      \n",
              "  <style>\n",
              "    .colab-df-container {\n",
              "      display:flex;\n",
              "      flex-wrap:wrap;\n",
              "      gap: 12px;\n",
              "    }\n",
              "\n",
              "    .colab-df-convert {\n",
              "      background-color: #E8F0FE;\n",
              "      border: none;\n",
              "      border-radius: 50%;\n",
              "      cursor: pointer;\n",
              "      display: none;\n",
              "      fill: #1967D2;\n",
              "      height: 32px;\n",
              "      padding: 0 0 0 0;\n",
              "      width: 32px;\n",
              "    }\n",
              "\n",
              "    .colab-df-convert:hover {\n",
              "      background-color: #E2EBFA;\n",
              "      box-shadow: 0px 1px 2px rgba(60, 64, 67, 0.3), 0px 1px 3px 1px rgba(60, 64, 67, 0.15);\n",
              "      fill: #174EA6;\n",
              "    }\n",
              "\n",
              "    [theme=dark] .colab-df-convert {\n",
              "      background-color: #3B4455;\n",
              "      fill: #D2E3FC;\n",
              "    }\n",
              "\n",
              "    [theme=dark] .colab-df-convert:hover {\n",
              "      background-color: #434B5C;\n",
              "      box-shadow: 0px 1px 3px 1px rgba(0, 0, 0, 0.15);\n",
              "      filter: drop-shadow(0px 1px 2px rgba(0, 0, 0, 0.3));\n",
              "      fill: #FFFFFF;\n",
              "    }\n",
              "  </style>\n",
              "\n",
              "      <script>\n",
              "        const buttonEl =\n",
              "          document.querySelector('#df-f7a83d0b-3660-45f7-83ec-d579a6b4016b button.colab-df-convert');\n",
              "        buttonEl.style.display =\n",
              "          google.colab.kernel.accessAllowed ? 'block' : 'none';\n",
              "\n",
              "        async function convertToInteractive(key) {\n",
              "          const element = document.querySelector('#df-f7a83d0b-3660-45f7-83ec-d579a6b4016b');\n",
              "          const dataTable =\n",
              "            await google.colab.kernel.invokeFunction('convertToInteractive',\n",
              "                                                     [key], {});\n",
              "          if (!dataTable) return;\n",
              "\n",
              "          const docLinkHtml = 'Like what you see? Visit the ' +\n",
              "            '<a target=\"_blank\" href=https://colab.research.google.com/notebooks/data_table.ipynb>data table notebook</a>'\n",
              "            + ' to learn more about interactive tables.';\n",
              "          element.innerHTML = '';\n",
              "          dataTable['output_type'] = 'display_data';\n",
              "          await google.colab.output.renderOutput(dataTable, element);\n",
              "          const docLink = document.createElement('div');\n",
              "          docLink.innerHTML = docLinkHtml;\n",
              "          element.appendChild(docLink);\n",
              "        }\n",
              "      </script>\n",
              "    </div>\n",
              "  </div>\n",
              "  "
            ],
            "text/plain": [
              "         Duration       Pulse    Maxpulse\n",
              "count  169.000000  169.000000  169.000000\n",
              "mean    63.846154  107.461538  134.047337\n",
              "std     42.299949   14.510259   16.450434\n",
              "min     15.000000   80.000000  100.000000\n",
              "25%     45.000000  100.000000  124.000000\n",
              "50%     60.000000  105.000000  131.000000\n",
              "75%     60.000000  111.000000  141.000000\n",
              "max    300.000000  159.000000  184.000000"
            ]
          },
          "execution_count": 21,
          "metadata": {},
          "output_type": "execute_result"
        }
      ],
      "source": [
        "df4.describe()"
      ]
    },
    {
      "cell_type": "code",
      "execution_count": 22,
      "metadata": {
        "colab": {
          "base_uri": "https://localhost:8080/"
        },
        "id": "V2JkF3jeexwL",
        "outputId": "a5cf4fb8-1dee-4eb6-97b8-f44882a48522"
      },
      "outputs": [
        {
          "name": "stdout",
          "output_type": "stream",
          "text": [
            "     Duration  Pulse  Maxpulse Calories\n",
            "0          60    110       130    409.1\n",
            "1          60    117       145    479.0\n",
            "2          60    103       135    340.0\n",
            "3          45    109       175    282.4\n",
            "4          45    117       148    406.0\n",
            "..        ...    ...       ...      ...\n",
            "164        60    105       140    290.8\n",
            "165        60    110       145    300.0\n",
            "166        60    115       145    310.2\n",
            "167        75    120       150    320.4\n",
            "168        75    125       150    330.4\n",
            "\n",
            "[169 rows x 4 columns]\n"
          ]
        }
      ],
      "source": [
        "df4['Maxpulse'] = pd.to_numeric(df4['Maxpulse'], errors='coerce')\n",
        "df4 = df4.dropna(subset=['Maxpulse'])\n",
        "\n",
        "# Displaying the filtered DataFrame\n",
        "print(df4)"
      ]
    },
    {
      "cell_type": "markdown",
      "metadata": {
        "id": "bxte08SxgSMR"
      },
      "source": [
        "### Handling Wrong Data Formats: Removing the decimal places int the ages and py-score"
      ]
    },
    {
      "cell_type": "code",
      "execution_count": 24,
      "metadata": {
        "colab": {
          "base_uri": "https://localhost:8080/"
        },
        "id": "Gi05Vyergg0b",
        "outputId": "8db572bc-7007-4363-b550-8c56abd5aeea"
      },
      "outputs": [
        {
          "name": "stdout",
          "output_type": "stream",
          "text": [
            "     Name     city age  py-score\n",
            "0    Emma  Kampala  23      90.0\n",
            "1  Wilber    Mbale  26      75.0\n",
            "4    Yeko   Tororo  20      94.0\n",
            "6   Jesca  Mbarara  21      84.0\n"
          ]
        }
      ],
      "source": [
        "\n",
        "# Removing decimal places from a specific column\n",
        "df3['age'] = df3['age'].astype(str).str.split('.').str[0]\n",
        "print(df3)\n"
      ]
    },
    {
      "cell_type": "code",
      "execution_count": 26,
      "metadata": {
        "colab": {
          "base_uri": "https://localhost:8080/"
        },
        "id": "X_OiCJpzhxCH",
        "outputId": "e7ee235d-fa97-475b-8350-453d11a6f0b5"
      },
      "outputs": [
        {
          "name": "stdout",
          "output_type": "stream",
          "text": [
            "     Name     city age py-score\n",
            "0    Emma  Kampala  23       90\n",
            "1  Wilber    Mbale  26       75\n",
            "4    Yeko   Tororo  20       94\n",
            "6   Jesca  Mbarara  21       84\n"
          ]
        }
      ],
      "source": [
        "df3['py-score'] = df3['py-score'].astype(str).str.split('.').str[0]\n",
        "print(df3)"
      ]
    },
    {
      "cell_type": "markdown",
      "metadata": {
        "id": "ini0qwfohXBJ"
      },
      "source": [
        "### Calories figures from Decimal points to Whole numbers"
      ]
    },
    {
      "cell_type": "code",
      "execution_count": 25,
      "metadata": {
        "colab": {
          "base_uri": "https://localhost:8080/"
        },
        "id": "4GQ_S93-g6-F",
        "outputId": "ea65df4a-968f-47ae-c0e5-b27fe7baae7f"
      },
      "outputs": [
        {
          "name": "stdout",
          "output_type": "stream",
          "text": [
            "     Duration  Pulse  Maxpulse Calories\n",
            "0          60    110       130      409\n",
            "1          60    117       145      479\n",
            "2          60    103       135      340\n",
            "3          45    109       175      282\n",
            "4          45    117       148      406\n",
            "..        ...    ...       ...      ...\n",
            "164        60    105       140      290\n",
            "165        60    110       145      300\n",
            "166        60    115       145      310\n",
            "167        75    120       150      320\n",
            "168        75    125       150      330\n",
            "\n",
            "[169 rows x 4 columns]\n"
          ]
        }
      ],
      "source": [
        "df4['Calories'] = df4['Calories'].astype(str).str.split('.').str[0]\n",
        "print(df4)\n"
      ]
    },
    {
      "cell_type": "markdown",
      "metadata": {
        "id": "YgFndkHYkpY3"
      },
      "source": [
        "## Finding The Duplicates"
      ]
    },
    {
      "cell_type": "code",
      "execution_count": 35,
      "metadata": {
        "colab": {
          "base_uri": "https://localhost:8080/"
        },
        "id": "B6YE2iPGklXT",
        "outputId": "81c546d8-1587-4529-bfe7-11ed4260b6aa"
      },
      "outputs": [
        {
          "data": {
            "text/plain": [
              "0      False\n",
              "1      False\n",
              "2      False\n",
              "3      False\n",
              "4      False\n",
              "       ...  \n",
              "164    False\n",
              "165    False\n",
              "166    False\n",
              "167    False\n",
              "168    False\n",
              "Length: 169, dtype: bool"
            ]
          },
          "execution_count": 35,
          "metadata": {},
          "output_type": "execute_result"
        }
      ],
      "source": [
        "df4.duplicated()\n"
      ]
    },
    {
      "cell_type": "code",
      "execution_count": 36,
      "metadata": {
        "colab": {
          "base_uri": "https://localhost:8080/"
        },
        "id": "VxzyxabjkvO-",
        "outputId": "636487e5-a01a-4de4-fc70-97423f961e6c"
      },
      "outputs": [
        {
          "data": {
            "text/plain": [
              "0    False\n",
              "1    False\n",
              "4    False\n",
              "6    False\n",
              "dtype: bool"
            ]
          },
          "execution_count": 36,
          "metadata": {},
          "output_type": "execute_result"
        }
      ],
      "source": [
        "df3.duplicated()\n"
      ]
    },
    {
      "cell_type": "markdown",
      "metadata": {
        "id": "Q-FE63axihfj"
      },
      "source": [
        "# Performing some correlation"
      ]
    },
    {
      "cell_type": "code",
      "execution_count": 32,
      "metadata": {
        "colab": {
          "base_uri": "https://localhost:8080/"
        },
        "id": "XQEJSq35jmBV",
        "outputId": "bb287565-44b4-47d1-a21d-7a28d594ea89"
      },
      "outputs": [
        {
          "name": "stdout",
          "output_type": "stream",
          "text": [
            "Empty DataFrame\n",
            "Columns: []\n",
            "Index: []\n"
          ]
        },
        {
          "name": "stderr",
          "output_type": "stream",
          "text": [
            "<ipython-input-32-507e878bbbbe>:1: FutureWarning: The default value of numeric_only in DataFrame.corr is deprecated. In a future version, it will default to False. Select only valid columns or specify the value of numeric_only to silence this warning.\n",
            "  correlation_matrix1 = df3.corr()\n"
          ]
        }
      ],
      "source": [
        "correlation_matrix1 = df3.corr()\n",
        "print(correlation_matrix1)"
      ]
    },
    {
      "cell_type": "code",
      "execution_count": 28,
      "metadata": {
        "colab": {
          "base_uri": "https://localhost:8080/"
        },
        "id": "FKP5p7iyieYn",
        "outputId": "cedd26ad-5c15-40b3-fec8-167056a4e1f6"
      },
      "outputs": [
        {
          "name": "stdout",
          "output_type": "stream",
          "text": [
            "          Duration     Pulse  Maxpulse\n",
            "Duration  1.000000 -0.155408  0.009403\n",
            "Pulse    -0.155408  1.000000  0.786535\n",
            "Maxpulse  0.009403  0.786535  1.000000\n"
          ]
        },
        {
          "name": "stderr",
          "output_type": "stream",
          "text": [
            "<ipython-input-28-7cf896efd7ed>:2: FutureWarning: The default value of numeric_only in DataFrame.corr is deprecated. In a future version, it will default to False. Select only valid columns or specify the value of numeric_only to silence this warning.\n",
            "  correlation_matrix = df4.corr()\n"
          ]
        }
      ],
      "source": [
        "# Performing correlation analysis\n",
        "correlation_matrix = df4.corr()\n",
        "print(correlation_matrix)\n"
      ]
    },
    {
      "cell_type": "code",
      "execution_count": 30,
      "metadata": {
        "colab": {
          "base_uri": "https://localhost:8080/",
          "height": 754
        },
        "id": "Pr6YR2nujAGv",
        "outputId": "5c2ae0bf-aa77-47fb-cf46-c0613edd7101"
      },
      "outputs": [
        {
          "name": "stderr",
          "output_type": "stream",
          "text": [
            "<ipython-input-30-12a6210af93a>:4: FutureWarning: The default value of numeric_only in DataFrame.corr is deprecated. In a future version, it will default to False. Select only valid columns or specify the value of numeric_only to silence this warning.\n",
            "  correlation_matrix = df4.corr()\n"
          ]
        },
        {
          "data": {
            "image/png": "[encoded data removed]",
            "text/plain": [
              "<Figure size 1000x800 with 2 Axes>"
            ]
          },
          "metadata": {},
          "output_type": "display_data"
        }
      ],
      "source": [
        "import seaborn as sns\n",
        "import matplotlib.pyplot as plt\n",
        "\n",
        "correlation_matrix = df4.corr()\n",
        "plt.figure(figsize=(10, 8))\n",
        "sns.heatmap(correlation_matrix, annot=True, cmap='coolwarm')\n",
        "plt.title('Correlation Heatmap for mine CSV file')\n",
        "plt.show()"
      ]
    },
    {
      "cell_type": "code",
      "execution_count": 34,
      "metadata": {
        "colab": {
          "base_uri": "https://localhost:8080/",
          "height": 754
        },
        "id": "wuFIBFDTkGHV",
        "outputId": "264de9bf-57b5-4a30-d601-862e6e371207"
      },
      "outputs": [
        {
          "name": "stderr",
          "output_type": "stream",
          "text": [
            "<ipython-input-34-cc7efe26175e>:1: FutureWarning: The default value of numeric_only in DataFrame.corr is deprecated. In a future version, it will default to False. Select only valid columns or specify the value of numeric_only to silence this warning.\n",
            "  correlation_matrix2 = df4.corr()\n"
          ]
        },
        {
          "data": {
            "image/png": "[encoded data removed]",
            "text/plain": [
              "<Figure size 1000x800 with 2 Axes>"
            ]
          },
          "metadata": {},
          "output_type": "display_data"
        }
      ],
      "source": [
        "correlation_matrix2 = df4.corr()\n",
        "\n",
        "# Creating a correlation heatmap\n",
        "plt.figure(figsize=(10, 8))\n",
        "sns.heatmap(correlation_matrix2, annot=True, cmap='coolwarm', fmt=\".2f\")\n",
        "plt.title('Correlation Heatmap for Mine CSV file ')\n",
        "plt.show()"
      ]
    }
  ],
  "metadata": {
    "colab": {
      "provenance": []
    },
    "kernelspec": {
      "display_name": "Python 3",
      "name": "python3"
    },
    "language_info": {
      "name": "python"
    }
  },
  "nbformat": 4,
  "nbformat_minor": 0
}
